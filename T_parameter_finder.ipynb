{
  "nbformat": 4,
  "nbformat_minor": 0,
  "metadata": {
    "colab": {
      "name": "T_parameter_finder.ipynb",
      "provenance": [],
      "collapsed_sections": [],
      "include_colab_link": true
    },
    "kernelspec": {
      "name": "python3",
      "display_name": "Python 3"
    },
    "language_info": {
      "name": "python"
    }
  },
  "cells": [
    {
      "cell_type": "markdown",
      "metadata": {
        "id": "view-in-github",
        "colab_type": "text"
      },
      "source": [
        "<a href=\"https://colab.research.google.com/github/Ruchir555/State-Transfer-between-CV-Bosonic-Modes-and-Qubits/blob/main/T_parameter_finder.ipynb\" target=\"_parent\"><img src=\"https://colab.research.google.com/assets/colab-badge.svg\" alt=\"Open In Colab\"/></a>"
      ]
    },
    {
      "cell_type": "markdown",
      "metadata": {
        "id": "ChTCy5I_SwMl"
      },
      "source": [
        "This program finds the $t$-parameters between an arbitrary numerical sequence of vectors following the majorization condition. This is done in the function t_parameters(x, y). Firstly, it sorts the vectors $x$ & $y$ into descending order, after which it checks whether or not the vectors actually obey the majorization relation ($x \\prec y$), and if they are the same length. Then, it finds the k index such that $y_k \\leq x_1 \\leq y_{k-1}$, such that we can write the respective t-parameter as:\n",
        "\n",
        "$$\n",
        "t = \\frac{x_1-y_k}{y_1-y_k}\n",
        "$$\n",
        "\n",
        "This process is repeated with all the reduced vectors (obtained by removing the first element of the vector and transforming the $k$-th element of y as $(t\\cdot y_k + (1-t)\\cdot y_1)$), such that ($d-1$) $t$-parameters are found for vectors of length $d$. \n",
        "\n",
        "This program has several helper functions (sum_arr_till_index(arr, idx), isMajorized(x,y), bubbleSort(arr), find_k_idx(x,y)) which are fairly straightforward, but explained below nevertheless. "
      ]
    },
    {
      "cell_type": "code",
      "metadata": {
        "id": "LhBqHJfASmUu",
        "colab": {
          "base_uri": "https://localhost:8080/"
        },
        "outputId": "e055b1c5-1af0-475f-e0d0-7d5bc1504867"
      },
      "source": [
        "def bubbleSort(arr):  #Sort in descending order, O(n^2)\n",
        "    n = len(arr)\n",
        "    # Traverse through all array elements\n",
        "    for i in range(n):\n",
        "        # Last i elements are already in place\n",
        "        for j in range(0, n-i-1):\n",
        "            # traverse the array from 0 to n-i-1\n",
        "            # Swap if the element found is greater\n",
        "            # than the next element\n",
        "            if arr[j] < arr[j+1] :\n",
        "                arr[j], arr[j+1] = arr[j+1], arr[j]\n",
        "    return arr\n",
        "\n",
        "#Test code:\n",
        "x = [5, 3, 2, 9, 10, 19, 110]\n",
        "print(bubbleSort(x))"
      ],
      "execution_count": 2,
      "outputs": [
        {
          "output_type": "stream",
          "name": "stdout",
          "text": [
            "[110, 19, 10, 9, 5, 3, 2]\n"
          ]
        }
      ]
    },
    {
      "cell_type": "code",
      "metadata": {
        "colab": {
          "base_uri": "https://localhost:8080/"
        },
        "id": "D8R-0j39QWsr",
        "outputId": "686da19c-85d9-4846-8f31-8a973e106a8d"
      },
      "source": [
        "def sum_arr_till_index(arr, idx): #sum an array from index 0 to idx\n",
        "  sum = 0\n",
        "  for i in range(0,idx):\n",
        "    sum += arr[i]\n",
        "  return sum\n",
        "\n",
        "\n",
        "def isMajorized(x,y): #check if x is majorized by y\n",
        "  if (len(x)!= len(y)):\n",
        "    return False\n",
        "\n",
        "  isTrue = 1  #1 == True, 0 == False\n",
        "  x = bubbleSort(x)\n",
        "  y = bubbleSort(y)\n",
        "\n",
        "  for k in range(0,len(x)+1):\n",
        "    if (sum_arr_till_index(x,k) <= sum_arr_till_index(y,k)):  #Majorization def'n\n",
        "      isTrue*=1\n",
        "    else:\n",
        "      isTrue *= 0\n",
        "  return isTrue==1  #returns 0 if false (does not y majorize x), 1 if true (y majorizes x)\n",
        "\n",
        "\n",
        "# Test Code:\n",
        "A = [2, 3, 5, 3, 2]\n",
        "B = [3, 1, 6, 2, 3]\n",
        "print(isMajorized(A,B))\n",
        "# isMajorized(B,A)\n",
        "sum_arr_till_index(A,len(A))"
      ],
      "execution_count": 3,
      "outputs": [
        {
          "output_type": "stream",
          "name": "stdout",
          "text": [
            "True\n"
          ]
        },
        {
          "output_type": "execute_result",
          "data": {
            "text/plain": [
              "15"
            ]
          },
          "metadata": {},
          "execution_count": 3
        }
      ]
    },
    {
      "cell_type": "code",
      "metadata": {
        "colab": {
          "base_uri": "https://localhost:8080/"
        },
        "id": "nlux-HPPP7Dk",
        "outputId": "c5052b56-b407-4cfc-8e25-f36aca62b07d"
      },
      "source": [
        "def find_k_idx(x,y, reOrder = False): #Find the k-index such that y_k <= x_1 <= y_{k-1}.\n",
        "  if (reOrder == True):   #don't automatically sort\n",
        "    x = bubbleSort(x)\n",
        "    y = bubbleSort(y)\n",
        "\n",
        "  else:\n",
        "    x1 = x[0]\n",
        "\n",
        "    for k in range(1, len(y)):\n",
        "      if (y[k] <= x1 <= y[k-1]):\n",
        "        return k\n",
        "\n",
        "# Test Code:\n",
        "xx = [100, 50, 25, 25, 0]\n",
        "yy = [125, 25, 25, 25, 0]\n",
        "# find_k_idx(xx,yy)\n",
        "X = [5, 10, 15, 20]\n",
        "Y = [7, 8, 1, 34]\n",
        "# find_k_idx(X,Y)\n",
        "X, Y = bubbleSort(X[1:]), bubbleSort(Y[1:])\n",
        "print(find_k_idx(X,Y))\n",
        "yY = [15,10,5]\n",
        "xX = [8,7,1]\n",
        "print(find_k_idx(xX[1:], yY[1:]))"
      ],
      "execution_count": 4,
      "outputs": [
        {
          "output_type": "stream",
          "name": "stdout",
          "text": [
            "1\n",
            "1\n"
          ]
        }
      ]
    },
    {
      "cell_type": "code",
      "metadata": {
        "colab": {
          "base_uri": "https://localhost:8080/"
        },
        "id": "KdJ1KrZKQSuv",
        "outputId": "936a0cd5-3927-4151-b0bf-6cd777d22082"
      },
      "source": [
        "def t_parameters(x, y, checkMajorization = False, checkLength = True): # x majorized by y; finds t-parameters such that x = Dy, D = T_r...T_2 T_1\n",
        "  # First sort vectors into descending order\n",
        "  x_copy =  bubbleSort(x) \n",
        "  y_copy = bubbleSort(y)\n",
        "  t_parameters_list = []\n",
        "  index_choice_list = []  #which index is chosen at each reduced vector step\n",
        "\n",
        "  if (checkLength ==True):\n",
        "    if (len(x)!= len(y)):\n",
        "      print(\"Unequal lengths \\n\")\n",
        "      return False  #or break?\n",
        "  if (checkMajorization==True):\n",
        "    if (isMajorized(x,y)==False):\n",
        "      print(\"Not majorized \\n\")\n",
        "      return t_parameters_list, index_choice_list  #or break?\n",
        "\n",
        "  # y_n <= x_1 <= y_1 and y_k <= x_1 <= y_{k-1}\n",
        "  # Therefore x_1 = t*y_1 + (1-t)*y_k\n",
        "  # Therefore t = (x_1-y_k)/(y_1-y_k)\n",
        "  i=0\n",
        "  k=0\n",
        "  t=0\n",
        "  while i < len(x)-1: #iterate appropriate amount of times (1 less than dimension of x,y)\n",
        "    print('x', x_copy)\n",
        "    print('y', y_copy)\n",
        "    k = find_k_idx(x_copy, y_copy)  #Find appropriate k index\n",
        "    print('k', k+1)\n",
        "    index_choice_list.append(k+1) #append index choice; k+1 because Python starts from 0\n",
        "    t = (x_copy[0]-y_copy[k])/(y_copy[0]-y_copy[k]) #Write down t\n",
        "    t_parameters_list.append(t)  #Append t to list\n",
        "    y_copy[k] = t*y_copy[k] + (1-t)*y_copy[0] #Change k-th index entry according to T-transform\n",
        "    y_copy = y_copy[1:] # Pop the first index to get reduced vector\n",
        "    x_copy = x_copy[1:] # Pop the first index to get reduced vector\n",
        "    i+=1\n",
        "\n",
        "    if (t>1 or t<0):  #out of bounds t condition\n",
        "      print(\"Incorrect t obtained \\n\")\n",
        "      return False  #or break?\n",
        "\n",
        "  return t_parameters_list, index_choice_list\n",
        "\n",
        "\n",
        "# Test Code:\n",
        "X = [5, 10, 15, 20]\n",
        "Y = [7, 8, 1, 34]\n",
        "tparams1, indices1 = t_parameters(X,Y)\n",
        "print('Example 1:', tparams1, '\\n')  #[0.46153846153846156, 0.5333333333333333, 0.6923076923076923] \n",
        "\n",
        "Xx = [1/2, 2/5, 1/10]\n",
        "Yy = [3/5, 1/5, 1/5]\n",
        "tparams2, indices2 = t_parameters(Xx,Yy, checkMajorization=True)\n",
        "print('Example 2:', tparams2, '\\n')  #Nielsen example, not majorized\n",
        "\n",
        "a = [5, 3, 2]\n",
        "b = [6, 3, 1]\n",
        "tparams3, indices3 = t_parameters(a,b)\n",
        "print('Example 3:', tparams3, '\\n')  #[0.6666666666666666, 0.6666666666666666] \n",
        "\n",
        "# 5D pseudo-TMS->Bell state case:\n",
        "lamb = .75  #lambda = tanh(r), in this case lamb>=0.72 for majorization condition\n",
        "N = 1 + lamb**2 + lamb**4 + lamb**6 + lamb**8 #normalization\n",
        "pseudoTMS5D = [1/N, lamb**2/N, lamb**4/N, lamb**6/N, lamb**8/N]\n",
        "Bell = [1/2, 1/2, 0, 0, 0]\n",
        "tparams4, indices4 = t_parameters(pseudoTMS5D,Bell)\n",
        "print('pseudoTMS5D->Bell:', tparams4, '\\n') #[0.927214719760047, 0.4840011596679688, 0.5322245322245323, 0.6400000000000001] \n",
        "print('pseudoTMS5D->Bell: Index choice:',indices4)"
      ],
      "execution_count": 5,
      "outputs": [
        {
          "output_type": "stream",
          "name": "stdout",
          "text": [
            "x [20, 15, 10, 5]\n",
            "y [34, 8, 7, 1]\n",
            "k 2\n",
            "x [15, 10, 5]\n",
            "y [22.0, 7, 1]\n",
            "k 2\n",
            "x [10, 5]\n",
            "y [14.0, 1]\n",
            "k 2\n",
            "Example 1: [0.46153846153846156, 0.5333333333333333, 0.6923076923076923] \n",
            "\n",
            "Not majorized \n",
            "\n",
            "Example 2: [] \n",
            "\n",
            "x [5, 3, 2]\n",
            "y [6, 3, 1]\n",
            "k 2\n",
            "x [3, 2]\n",
            "y [4.0, 1]\n",
            "k 2\n",
            "Example 3: [0.6666666666666666, 0.6666666666666666] \n",
            "\n",
            "x [0.4636073598800235, 0.2607791399325132, 0.14668826621203868, 0.08251214974427176, 0.04641308423115286]\n",
            "y [0.5, 0.5, 0, 0, 0]\n",
            "k 3\n",
            "x [0.2607791399325132, 0.14668826621203868, 0.08251214974427176, 0.04641308423115286]\n",
            "y [0.5, 0.036392640119976505, 0, 0]\n",
            "k 2\n",
            "x [0.14668826621203868, 0.08251214974427176, 0.04641308423115286]\n",
            "y [0.2756135001874633, 0, 0]\n",
            "k 2\n",
            "x [0.08251214974427176, 0.04641308423115286]\n",
            "y [0.1289252339754246, 0]\n",
            "k 2\n",
            "pseudoTMS5D->Bell: [0.927214719760047, 0.4840011596679688, 0.5322245322245323, 0.6400000000000001] \n",
            "\n",
            "pseudoTMS5D->Bell: Index choice: [3, 2, 2, 2]\n"
          ]
        }
      ]
    },
    {
      "cell_type": "code",
      "metadata": {
        "colab": {
          "base_uri": "https://localhost:8080/"
        },
        "id": "TqyGTwBgZgnG",
        "outputId": "4551c31c-df6d-4e57-820b-af93b2abee72"
      },
      "source": [
        "from math import tanh, atanh, sqrt\n",
        "\n",
        "def generateTMSSvector(r, N, renormalize = False): #generates an N-length TMSS vector (renormalized) with squeezing parameter r\n",
        "  lamb = tanh(r)\n",
        "  r_min = atanh(1/sqrt(2))\n",
        "  if r < r_min:\n",
        "    print(\"Less than minimum r by Nielsen criteria \\n\")\n",
        "    return False\n",
        "\n",
        "  TMSSvector = [0]*N  #instantiate\n",
        "\n",
        "  for i in range (0, N):\n",
        "    TMSSvector[i] = (1-lamb**2)*(lamb)**(2*i) #generate\n",
        "\n",
        "  reduced_vector_sum = sum_arr_till_index(TMSSvector, N)\n",
        "\n",
        "  if (renormalize == True): \n",
        "    for j in range (0, N):  #renormalize\n",
        "      TMSSvector[j] = TMSSvector[j]/reduced_vector_sum\n",
        "\n",
        "  return TMSSvector\n",
        "\n",
        "\n",
        "def generateBellstate_reduced(N): #generates an N-length Bell-state vector \n",
        "  bellStatearray = [0]*N\n",
        "  bellStatearray[0] = 1/2\n",
        "  bellStatearray[1] = 1/2\n",
        "\n",
        "  return bellStatearray\n",
        "\n",
        "# Test Code:\n",
        "print('Example 1:', generateTMSSvector(.5, 10)) #False\n",
        "print('Example 2:', generateTMSSvector(1, 10, renormalize=True))\n",
        "print('Example 3:', generateTMSSvector(atanh(.75), 5))\n",
        "print('Example 4:', generateBellstate_reduced(5))"
      ],
      "execution_count": 6,
      "outputs": [
        {
          "output_type": "stream",
          "name": "stdout",
          "text": [
            "Less than minimum r by Nielsen criteria \n",
            "\n",
            "Example 1: False\n",
            "Example 2: [0.42179224436615365, 0.24465032424057584, 0.141903465391982, 0.08230765094123561, 0.04774054942739311, 0.027690743613331813, 0.016061341795519987, 0.00931599034950864, 0.005403513435991128, 0.0031341764383082103]\n",
            "Example 3: [0.4375, 0.24609375, 0.138427734375, 0.0778656005859375, 0.043799400329589844]\n",
            "Example 4: [0.5, 0.5, 0, 0, 0]\n"
          ]
        }
      ]
    },
    {
      "cell_type": "code",
      "metadata": {
        "id": "luXEu_eQYnP3",
        "colab": {
          "base_uri": "https://localhost:8080/",
          "height": 1000
        },
        "outputId": "960292fc-530a-4efd-e9b9-4ea20f2c982d"
      },
      "source": [
        "# Check the index distribution of the TMSS --> Bell state conversion for several lambda\n",
        "\n",
        "import matplotlib.pyplot as plt\n",
        "\n",
        "r = atanh(0.9) #lambda = tanh(r), in this case lamb>=0.71 (r>=0.88) for majorization condition\n",
        "N = 20 #dimension\n",
        "pseudoTMSND = generateTMSSvector(r, N, renormalize=False)\n",
        "BellN_1 = generateBellstate_reduced(N+1)  #generate one larger than pseudoTMSND so that the last k-index is found (artefact of the code)\n",
        "tparamsN, indicesN = t_parameters(pseudoTMSND,BellN_1, checkMajorization=False, checkLength=False)\n",
        "print('pseudoTMSND->Bell t parameters:', tparamsN, '\\n') \n",
        "print('pseudoTMSND->Bell: Index choice:',indicesN)\n",
        "\n",
        "\n",
        "# Check which type of index choice it is (k=2 or k=3, or neither), and print:\n",
        "k2_idx_list = [2]*(N-1)\n",
        "k2_idx_list[0] = 3\n",
        "k3_idx_list = [3]*(N-1)\n",
        "if (indicesN==k2_idx_list):\n",
        "  print('LIST TYPE: k=2')\n",
        "if (indicesN==k3_idx_list):\n",
        "  print('LIST TYPE: k=3')\n",
        "else:\n",
        "  print('LIST TYPE: Neither k=2 nor k=3 type')\n",
        "\n",
        "\n",
        "# Plot\n",
        "idx_array = [i for i in range(1,len(indicesN)+1)] #generate an indices number array (index 1, index 2, ..., index N)\n",
        "plt.scatter(idx_array, indicesN)\n",
        "plt.xticks(idx_array)\n",
        "plt.title('Index Choice Distribution for '+ str(N)+ r' dimensional array with $\\lambda = $'+ str(format(tanh(r),'0.4f')))\n",
        "plt.xlabel('Index Number')\n",
        "plt.ylabel('Index Choice (k)')\n",
        "plt.plot()\n"
      ],
      "execution_count": 30,
      "outputs": [
        {
          "output_type": "stream",
          "name": "stdout",
          "text": [
            "x [0.18999999999999995, 0.15389999999999995, 0.12465899999999996, 0.10097378999999998, 0.0817887699, 0.066248903619, 0.053661611931390005, 0.0434659056644259, 0.03520738358818498, 0.028517980706429837, 0.02309956437220817, 0.01871064714148862, 0.015155624184605782, 0.012276055589530684, 0.009943605027519856, 0.008054320072291083, 0.0065239992585557766, 0.005284439399430179, 0.004280395913538446, 0.0034671206899661417]\n",
            "y [0.5, 0.5, 0, 0, 0, 0, 0, 0, 0, 0, 0, 0, 0, 0, 0, 0, 0, 0, 0, 0, 0]\n",
            "k 3\n",
            "x [0.15389999999999995, 0.12465899999999996, 0.10097378999999998, 0.0817887699, 0.066248903619, 0.053661611931390005, 0.0434659056644259, 0.03520738358818498, 0.028517980706429837, 0.02309956437220817, 0.01871064714148862, 0.015155624184605782, 0.012276055589530684, 0.009943605027519856, 0.008054320072291083, 0.0065239992585557766, 0.005284439399430179, 0.004280395913538446, 0.0034671206899661417]\n",
            "y [0.5, 0.31000000000000005, 0, 0, 0, 0, 0, 0, 0, 0, 0, 0, 0, 0, 0, 0, 0, 0, 0, 0]\n",
            "k 3\n",
            "x [0.12465899999999996, 0.10097378999999998, 0.0817887699, 0.066248903619, 0.053661611931390005, 0.0434659056644259, 0.03520738358818498, 0.028517980706429837, 0.02309956437220817, 0.01871064714148862, 0.015155624184605782, 0.012276055589530684, 0.009943605027519856, 0.008054320072291083, 0.0065239992585557766, 0.005284439399430179, 0.004280395913538446, 0.0034671206899661417]\n",
            "y [0.31000000000000005, 0.3461000000000001, 0, 0, 0, 0, 0, 0, 0, 0, 0, 0, 0, 0, 0, 0, 0, 0, 0]\n",
            "k 3\n",
            "x [0.10097378999999998, 0.0817887699, 0.066248903619, 0.053661611931390005, 0.0434659056644259, 0.03520738358818498, 0.028517980706429837, 0.02309956437220817, 0.01871064714148862, 0.015155624184605782, 0.012276055589530684, 0.009943605027519856, 0.008054320072291083, 0.0065239992585557766, 0.005284439399430179, 0.004280395913538446, 0.0034671206899661417]\n",
            "y [0.3461000000000001, 0.18534100000000012, 0, 0, 0, 0, 0, 0, 0, 0, 0, 0, 0, 0, 0, 0, 0, 0]\n",
            "k 3\n",
            "x [0.0817887699, 0.066248903619, 0.053661611931390005, 0.0434659056644259, 0.03520738358818498, 0.028517980706429837, 0.02309956437220817, 0.01871064714148862, 0.015155624184605782, 0.012276055589530684, 0.009943605027519856, 0.008054320072291083, 0.0065239992585557766, 0.005284439399430179, 0.004280395913538446, 0.0034671206899661417]\n",
            "y [0.18534100000000012, 0.2451262100000001, 0, 0, 0, 0, 0, 0, 0, 0, 0, 0, 0, 0, 0, 0, 0]\n",
            "k 3\n",
            "x [0.066248903619, 0.053661611931390005, 0.0434659056644259, 0.03520738358818498, 0.028517980706429837, 0.02309956437220817, 0.01871064714148862, 0.015155624184605782, 0.012276055589530684, 0.009943605027519856, 0.008054320072291083, 0.0065239992585557766, 0.005284439399430179, 0.004280395913538446, 0.0034671206899661417]\n",
            "y [0.2451262100000001, 0.10355223010000011, 0, 0, 0, 0, 0, 0, 0, 0, 0, 0, 0, 0, 0, 0]\n",
            "k 3\n",
            "x [0.053661611931390005, 0.0434659056644259, 0.03520738358818498, 0.028517980706429837, 0.02309956437220817, 0.01871064714148862, 0.015155624184605782, 0.012276055589530684, 0.009943605027519856, 0.008054320072291083, 0.0065239992585557766, 0.005284439399430179, 0.004280395913538446, 0.0034671206899661417]\n",
            "y [0.10355223010000011, 0.1788773063810001, 0, 0, 0, 0, 0, 0, 0, 0, 0, 0, 0, 0, 0]\n",
            "k 3\n",
            "x [0.0434659056644259, 0.03520738358818498, 0.028517980706429837, 0.02309956437220817, 0.01871064714148862, 0.015155624184605782, 0.012276055589530684, 0.009943605027519856, 0.008054320072291083, 0.0065239992585557766, 0.005284439399430179, 0.004280395913538446, 0.0034671206899661417]\n",
            "y [0.1788773063810001, 0.04989061816861011, 0, 0, 0, 0, 0, 0, 0, 0, 0, 0, 0, 0]\n",
            "k 3\n",
            "x [0.03520738358818498, 0.028517980706429837, 0.02309956437220817, 0.01871064714148862, 0.015155624184605782, 0.012276055589530684, 0.009943605027519856, 0.008054320072291083, 0.0065239992585557766, 0.005284439399430179, 0.004280395913538446, 0.0034671206899661417]\n",
            "y [0.04989061816861011, 0.1354114007165742, 0, 0, 0, 0, 0, 0, 0, 0, 0, 0, 0]\n",
            "k 3\n",
            "x [0.028517980706429837, 0.02309956437220817, 0.01871064714148862, 0.015155624184605782, 0.012276055589530684, 0.009943605027519856, 0.008054320072291083, 0.0065239992585557766, 0.005284439399430179, 0.004280395913538446, 0.0034671206899661417]\n",
            "y [0.1354114007165742, 0.014683234580425126, 0, 0, 0, 0, 0, 0, 0, 0, 0, 0]\n",
            "k 2\n",
            "x [0.02309956437220817, 0.01871064714148862, 0.015155624184605782, 0.012276055589530684, 0.009943605027519856, 0.008054320072291083, 0.0065239992585557766, 0.005284439399430179, 0.004280395913538446, 0.0034671206899661417]\n",
            "y [0.12157665459056947, 0, 0, 0, 0, 0, 0, 0, 0, 0, 0]\n",
            "k 2\n",
            "x [0.01871064714148862, 0.015155624184605782, 0.012276055589530684, 0.009943605027519856, 0.008054320072291083, 0.0065239992585557766, 0.005284439399430179, 0.004280395913538446, 0.0034671206899661417]\n",
            "y [0.0984770902183613, 0, 0, 0, 0, 0, 0, 0, 0, 0]\n",
            "k 2\n",
            "x [0.015155624184605782, 0.012276055589530684, 0.009943605027519856, 0.008054320072291083, 0.0065239992585557766, 0.005284439399430179, 0.004280395913538446, 0.0034671206899661417]\n",
            "y [0.07976644307687268, 0, 0, 0, 0, 0, 0, 0, 0]\n",
            "k 2\n",
            "x [0.012276055589530684, 0.009943605027519856, 0.008054320072291083, 0.0065239992585557766, 0.005284439399430179, 0.004280395913538446, 0.0034671206899661417]\n",
            "y [0.0646108188922669, 0, 0, 0, 0, 0, 0, 0]\n",
            "k 2\n",
            "x [0.009943605027519856, 0.008054320072291083, 0.0065239992585557766, 0.005284439399430179, 0.004280395913538446, 0.0034671206899661417]\n",
            "y [0.05233476330273621, 0, 0, 0, 0, 0, 0]\n",
            "k 2\n",
            "x [0.008054320072291083, 0.0065239992585557766, 0.005284439399430179, 0.004280395913538446, 0.0034671206899661417]\n",
            "y [0.042391158275216355, 0, 0, 0, 0, 0]\n",
            "k 2\n",
            "x [0.0065239992585557766, 0.005284439399430179, 0.004280395913538446, 0.0034671206899661417]\n",
            "y [0.034336838202925275, 0, 0, 0, 0]\n",
            "k 2\n",
            "x [0.005284439399430179, 0.004280395913538446, 0.0034671206899661417]\n",
            "y [0.0278128389443695, 0, 0, 0]\n",
            "k 2\n",
            "x [0.004280395913538446, 0.0034671206899661417]\n",
            "y [0.02252839954493932, 0, 0]\n",
            "k 2\n",
            "pseudoTMSND->Bell t parameters: [0.3799999999999999, 0.3077999999999999, 0.4021258064516127, 0.29174744293556765, 0.44128805768826085, 0.2702644634329392, 0.5182081726252455, 0.2429928454526568, 0.7056914682676063, 0.11459418765959567, 0.18999999999999975, 0.18999999999999972, 0.18999999999999964, 0.18999999999999959, 0.18999999999999953, 0.18999999999999942, 0.18999999999999925, 0.1899999999999991, 0.1899999999999989] \n",
            "\n",
            "pseudoTMSND->Bell: Index choice: [3, 3, 3, 3, 3, 3, 3, 3, 3, 2, 2, 2, 2, 2, 2, 2, 2, 2, 2]\n",
            "LIST TYPE: Neither k=2 nor k=3 type\n"
          ]
        },
        {
          "output_type": "execute_result",
          "data": {
            "text/plain": [
              "[]"
            ]
          },
          "metadata": {},
          "execution_count": 30
        },
        {
          "output_type": "display_data",
          "data": {
            "image/png": "[encoded data removed]",
            "text/plain": [
              "<Figure size 432x288 with 1 Axes>"
            ]
          },
          "metadata": {
            "needs_background": "light"
          }
        }
      ]
    },
    {
      "cell_type": "code",
      "metadata": {
        "colab": {
          "base_uri": "https://localhost:8080/"
        },
        "id": "Bp2fAh2Km19G",
        "outputId": "2825274a-fe36-42f5-dfe8-f4cf741a969d"
      },
      "source": [
        "sum_arr_till_index(pseudoTMSND,N)\n",
        "r"
      ],
      "execution_count": 8,
      "outputs": [
        {
          "output_type": "execute_result",
          "data": {
            "text/plain": [
              "1.2933446720489712"
            ]
          },
          "metadata": {},
          "execution_count": 8
        }
      ]
    },
    {
      "cell_type": "code",
      "metadata": {
        "id": "kJ-gdts1_qaU"
      },
      "source": [
        "# Function: Do N T-transformations "
      ],
      "execution_count": 9,
      "outputs": []
    },
    {
      "cell_type": "code",
      "metadata": {
        "colab": {
          "base_uri": "https://localhost:8080/"
        },
        "id": "KLvGL9Mt16wD",
        "outputId": "cc872b21-4ac4-4ace-8f47-f1b6a9f1a5a8"
      },
      "source": [
        "(1-2*(0.8408)**4)/(2*(1-(0.8408)**2))"
      ],
      "execution_count": 10,
      "outputs": [
        {
          "output_type": "execute_result",
          "data": {
            "text/plain": [
              "0.0007823640395807579"
            ]
          },
          "metadata": {},
          "execution_count": 10
        }
      ]
    },
    {
      "cell_type": "code",
      "metadata": {
        "colab": {
          "base_uri": "https://localhost:8080/"
        },
        "id": "ZcSgW5V72CUP",
        "outputId": "3e74def3-487f-4b7d-ec5e-adc93cfd20ef"
      },
      "source": [
        "(0.8408)**4 * (1-(0.8408)**2)"
      ],
      "execution_count": 11,
      "outputs": [
        {
          "output_type": "execute_result",
          "data": {
            "text/plain": [
              "0.1464604894465278"
            ]
          },
          "metadata": {},
          "execution_count": 11
        }
      ]
    },
    {
      "cell_type": "code",
      "metadata": {
        "colab": {
          "base_uri": "https://localhost:8080/"
        },
        "id": "jrQSVhhMrN7f",
        "outputId": "50183d6c-b0bb-4df3-c0f1-3de8eba246b9"
      },
      "source": [
        "(0.8408)**4 - (0.8408)**2 +1/2"
      ],
      "execution_count": 12,
      "outputs": [
        {
          "output_type": "execute_result",
          "data": {
            "text/plain": [
              "0.2928260840247296"
            ]
          },
          "metadata": {},
          "execution_count": 12
        }
      ]
    },
    {
      "cell_type": "code",
      "metadata": {
        "colab": {
          "base_uri": "https://localhost:8080/"
        },
        "id": "HB_2hMq6rRYn",
        "outputId": "bba0c578-f67a-4da9-9623-82d1a6337e75"
      },
      "source": [
        "a = 2**(-1/4)\n",
        "(a)**8 -(a)**4 +(a)**2 -0.5\n",
        "(a)**10 -(a)**8 -a**6 + a**4 -(a)**2 +0.5\n",
        "(a)**4 -(a)**2 +0.5"
      ],
      "execution_count": 13,
      "outputs": [
        {
          "output_type": "execute_result",
          "data": {
            "text/plain": [
              "0.2928932188134524"
            ]
          },
          "metadata": {},
          "execution_count": 13
        }
      ]
    },
    {
      "cell_type": "code",
      "metadata": {
        "colab": {
          "base_uri": "https://localhost:8080/"
        },
        "id": "_KfFBZDqJadt",
        "outputId": "3dfcf9c3-71f0-4b81-c513-d965a80371f3"
      },
      "source": [
        "a"
      ],
      "execution_count": 14,
      "outputs": [
        {
          "output_type": "execute_result",
          "data": {
            "text/plain": [
              "0.8408964152537145"
            ]
          },
          "metadata": {},
          "execution_count": 14
        }
      ]
    },
    {
      "cell_type": "code",
      "metadata": {
        "colab": {
          "base_uri": "https://localhost:8080/"
        },
        "id": "7NvCSKbcKtOw",
        "outputId": "dcec5fb6-5b6e-4697-8dcc-54154bf2758d"
      },
      "source": [
        "# Check alternate summation formula:\n",
        "\n",
        "lamb = .8\n",
        "n = 1502\n",
        "N = n-2\n",
        "accum = 1 #accumulator for summation, starts from 1\n",
        "\n",
        "for j in range(1,N+1):\n",
        "  accum += (-1/(lamb**2))**j\n",
        "  # print(accum)\n",
        "\n",
        "accum_sum = (1-(-1/lamb**2)**(n-2))/(1+lamb**(-2))  #summation formula\n",
        "print('accum', accum)\n",
        "print('accum_sum', accum_sum)\n",
        "accum == accum_sum  #check if true\n",
        "print((lamb**2)/(-1+lamb**(-2)))"
      ],
      "execution_count": 15,
      "outputs": [
        {
          "output_type": "stream",
          "name": "stdout",
          "text": [
            "accum 3.274878379999672e+290\n",
            "accum_sum -2.0959221631997902e+290\n",
            "1.1377777777777784\n"
          ]
        }
      ]
    },
    {
      "cell_type": "code",
      "metadata": {
        "id": "UR1sOEFtDBD6",
        "colab": {
          "base_uri": "https://localhost:8080/"
        },
        "outputId": "1fcfa8de-d900-4e1b-85f0-dafddb39019e"
      },
      "source": [
        "Llamb = 0.86\n",
        "print(1-Llamb**2)\n",
        "print((Llamb**2)*(1-Llamb**2))\n",
        "print((Llamb**4)*(1-Llamb**2))\n",
        "print((Llamb**6)*(1-Llamb**2))"
      ],
      "execution_count": 16,
      "outputs": [
        {
          "output_type": "stream",
          "name": "stdout",
          "text": [
            "0.2604000000000001\n",
            "0.19259184000000004\n",
            "0.14244092486400003\n",
            "0.10534930802941442\n"
          ]
        }
      ]
    },
    {
      "cell_type": "code",
      "metadata": {
        "colab": {
          "base_uri": "https://localhost:8080/"
        },
        "id": "TsgErTGTfsZg",
        "outputId": "a7463ac3-61ae-4f67-c3bf-a9959f4abff1"
      },
      "source": [
        "print(0.5*(1-2*(1-Llamb**2)))\n",
        "print(0.5*(1-2*(Llamb**2)*(1-Llamb**2)))"
      ],
      "execution_count": 17,
      "outputs": [
        {
          "output_type": "stream",
          "name": "stdout",
          "text": [
            "0.23959999999999992\n",
            "0.30740815999999993\n"
          ]
        }
      ]
    },
    {
      "cell_type": "code",
      "metadata": {
        "colab": {
          "base_uri": "https://localhost:8080/"
        },
        "id": "y5_IOF0mhVXs",
        "outputId": "9ea44fd4-2c88-476c-8b4f-c0d505faeabd"
      },
      "source": [
        ".1424/.2396"
      ],
      "execution_count": 18,
      "outputs": [
        {
          "output_type": "execute_result",
          "data": {
            "text/plain": [
              "0.5943238731218697"
            ]
          },
          "metadata": {},
          "execution_count": 18
        }
      ]
    },
    {
      "cell_type": "code",
      "metadata": {
        "colab": {
          "base_uri": "https://localhost:8080/"
        },
        "id": "gF_xpwI4xanR",
        "outputId": "8ae0ebb8-d647-4fcf-fd7d-cc6135422795"
      },
      "source": [
        "(1-0.5943238731218697)*.2396"
      ],
      "execution_count": 19,
      "outputs": [
        {
          "output_type": "execute_result",
          "data": {
            "text/plain": [
              "0.09720000000000001"
            ]
          },
          "metadata": {},
          "execution_count": 19
        }
      ]
    },
    {
      "cell_type": "code",
      "metadata": {
        "colab": {
          "base_uri": "https://localhost:8080/"
        },
        "id": "mkI2mnzUxx5O",
        "outputId": "74e863e5-d446-4b87-b0a5-1ab8a3ed489b"
      },
      "source": [
        "LABELS = [i for i in range(1,100+1)]\n",
        "# plt.xticks(LABELS)"
      ],
      "execution_count": 27,
      "outputs": [
        {
          "output_type": "execute_result",
          "data": {
            "text/plain": [
              "[1,\n",
              " 2,\n",
              " 3,\n",
              " 4,\n",
              " 5,\n",
              " 6,\n",
              " 7,\n",
              " 8,\n",
              " 9,\n",
              " 10,\n",
              " 11,\n",
              " 12,\n",
              " 13,\n",
              " 14,\n",
              " 15,\n",
              " 16,\n",
              " 17,\n",
              " 18,\n",
              " 19,\n",
              " 20,\n",
              " 21,\n",
              " 22,\n",
              " 23,\n",
              " 24,\n",
              " 25,\n",
              " 26,\n",
              " 27,\n",
              " 28,\n",
              " 29,\n",
              " 30,\n",
              " 31,\n",
              " 32,\n",
              " 33,\n",
              " 34,\n",
              " 35,\n",
              " 36,\n",
              " 37,\n",
              " 38,\n",
              " 39,\n",
              " 40,\n",
              " 41,\n",
              " 42,\n",
              " 43,\n",
              " 44,\n",
              " 45,\n",
              " 46,\n",
              " 47,\n",
              " 48,\n",
              " 49,\n",
              " 50,\n",
              " 51,\n",
              " 52,\n",
              " 53,\n",
              " 54,\n",
              " 55,\n",
              " 56,\n",
              " 57,\n",
              " 58,\n",
              " 59,\n",
              " 60,\n",
              " 61,\n",
              " 62,\n",
              " 63,\n",
              " 64,\n",
              " 65,\n",
              " 66,\n",
              " 67,\n",
              " 68,\n",
              " 69,\n",
              " 70,\n",
              " 71,\n",
              " 72,\n",
              " 73,\n",
              " 74,\n",
              " 75,\n",
              " 76,\n",
              " 77,\n",
              " 78,\n",
              " 79,\n",
              " 80,\n",
              " 81,\n",
              " 82,\n",
              " 83,\n",
              " 84,\n",
              " 85,\n",
              " 86,\n",
              " 87,\n",
              " 88,\n",
              " 89,\n",
              " 90,\n",
              " 91,\n",
              " 92,\n",
              " 93,\n",
              " 94,\n",
              " 95,\n",
              " 96,\n",
              " 97,\n",
              " 98,\n",
              " 99]"
            ]
          },
          "metadata": {},
          "execution_count": 27
        }
      ]
    },
    {
      "cell_type": "code",
      "metadata": {
        "id": "0WCMO7RwK4y0"
      },
      "source": [
        ""
      ],
      "execution_count": null,
      "outputs": []
    }
  ]
}